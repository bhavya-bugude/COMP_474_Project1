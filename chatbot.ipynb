{
 "cells": [
  {
   "cell_type": "code",
   "execution_count": 5,
   "metadata": {},
   "outputs": [],
   "source": [
    "import spacy\n",
    "import re"
   ]
  },
  {
   "cell_type": "code",
   "execution_count": 6,
   "metadata": {},
   "outputs": [],
   "source": [
    "nlp = spacy.load(\"en_core_web_sm\")"
   ]
  },
  {
   "cell_type": "code",
   "execution_count": 7,
   "metadata": {},
   "outputs": [],
   "source": [
    "responses = {\n",
    "    \"greet\": \"Hello! How can I help you today?\",\n",
    "    \"hi\": \"Hello! How can I help you today?\",\n",
    "    \"hello\": \"Hello! How can I help you today?\",\n",
    "    \"bye\": \"Goodbye! Have a great day!\",\n",
    "    \"help\": \"I can answer your questions. Try asking about something more specific!\",\n",
    "    \"default\": \"I'm sorry, I didn't understand that. Could you rephrase?\",\n",
    "    \n",
    "    # Java-related responses\n",
    "    \"if statement\": \"An if statement in Java allows conditional execution of code blocks based on boolean expressions.\",\n",
    "    \"if else\": \"An if-else statement provides an alternative block of code to execute when the condition is false.\",\n",
    "    \"nested if\": \"A nested if statement is an if statement inside another if statement to check multiple conditions.\",\n",
    "    \"for loop\": \"A for loop in Java is used to iterate over a range of values with a defined condition and increment.\",\n",
    "    \"while loop\": \"A while loop executes a block of code as long as the condition remains true.\",\n",
    "    \"do while loop\": \"A do-while loop executes at least once before checking the condition.\",\n",
    "    \"switch\": \"A switch statement in Java allows multi-way branching based on variable values.\",\n",
    "    \"break\": \"The break statement terminates a loop or switch statement prematurely.\",\n",
    "    \"continue\": \"The continue statement skips the current iteration and moves to the next.\",\n",
    "    \"array\": \"An array in Java is a collection of elements of the same data type stored in contiguous memory locations.\",\n",
    "    \"arraylist\": \"An ArrayList in Java is a resizable array implementation of the List interface.\",\n",
    "    \"string\": \"A String in Java is an object representing a sequence of characters.\",\n",
    "    \"char\": \"The char data type in Java represents a single 16-bit Unicode character.\",\n",
    "    \"int\": \"The int data type in Java is a 32-bit signed integer.\",\n",
    "    \"double\": \"The double data type in Java represents floating-point numbers with double precision.\",\n",
    "    \"boolean\": \"A boolean in Java holds only two values: true or false.\",\n",
    "    \"class\": \"A class in Java is a blueprint for creating objects, defining properties, and behaviors.\",\n",
    "    \"object\": \"An object is an instance of a class that holds its own state and behaviors.\",\n",
    "    \"inheritance\": \"Inheritance in Java allows a class to acquire properties and methods from another class.\",\n",
    "    \"polymorphism\": \"Polymorphism in Java enables methods to have different implementations based on the object calling them.\",\n",
    "    \"method overloading\": \"Method overloading allows multiple methods in the same class with the same name but different parameters.\",\n",
    "    \"method overriding\": \"Method overriding occurs when a subclass provides a specific implementation of a method already defined in its superclass.\",\n",
    "    \"constructor\": \"A constructor in Java is a special method used to initialize objects.\",\n",
    "    \"static method\": \"A static method in Java belongs to the class rather than any object instance.\",\n",
    "    \"final keyword\": \"The final keyword in Java is used to declare constants and prevent method overriding.\",\n",
    "    \"abstract class\": \"An abstract class in Java cannot be instantiated and may have abstract methods.\",\n",
    "    \"interface\": \"An interface in Java defines a contract for classes to implement without providing concrete method definitions.\",\n",
    "    \"public keyword\": \"The public keyword in Java makes a class or method accessible from anywhere.\",\n",
    "    \"private keyword\": \"The private keyword restricts access to a class’s members within the same class.\",\n",
    "    \"protected keyword\": \"The protected keyword allows access within the same package and subclasses.\",\n",
    "    \"this keyword\": \"The this keyword in Java refers to the current instance of a class.\",\n",
    "    \"super keyword\": \"The super keyword refers to the parent class of an object.\",\n",
    "    \"encapsulation\": \"Encapsulation is the principle of wrapping data and methods into a single unit (class) in Java.\",\n",
    "    \"getter and setter\": \"Getters and setters are methods used to access and modify private class fields in Java.\",\n",
    "    \"try catch\": \"A try-catch block in Java is used to handle exceptions and prevent program crashes.\",\n",
    "    \"throws keyword\": \"The throws keyword in Java declares exceptions that a method might throw.\",\n",
    "    \"scanner\": \"The Scanner class in Java is used to take user input from the console.\",\n",
    "    \"random\": \"The Random class in Java is used to generate pseudo-random numbers.\",\n",
    "    \"recursion\": \"Recursion is a technique where a function calls itself to solve a problem iteratively.\",\n",
    "    \"OOP\": \"Java is an object-oriented programming language that follows principles like encapsulation, inheritance, and polymorphism.\",\n",
    "    \"JVM\": \"The Java Virtual Machine (JVM) is responsible for running Java bytecode on any platform.\",\n",
    "    \"JDK\": \"The Java Development Kit (JDK) provides tools necessary for developing and running Java programs.\",\n",
    "    \"JRE\": \"The Java Runtime Environment (JRE) is a set of libraries required to run Java applications.\",\n",
    "    \"main method\": \"The main method in Java serves as the entry point for a program’s execution.\",\n",
    "    \"print statement\": \"System.out.println() is used in Java to print output to the console.\",\n",
    "    \"modulus operator\": \"The modulus operator (%) in Java returns the remainder of a division operation.\",\n",
    "    \"bitwise operator\": \"Bitwise operators in Java perform operations on binary numbers.\",\n",
    "    \"logical operators\": \"Logical operators in Java include && (AND), || (OR), and ! (NOT).\",\n",
    "}\n"
   ]
  },
  {
   "cell_type": "code",
   "execution_count": 8,
   "metadata": {},
   "outputs": [],
   "source": [
    "def preprocess_input(user_input):\n",
    "    doc = nlp(user_input.lower())  # Convert input to lowercase and tokenize it\n",
    "    tokens = [token.lemma_ for token in doc]  # Lemmatization to get base form of words\n",
    "    return tokens "
   ]
  },
  {
   "cell_type": "code",
   "execution_count": 9,
   "metadata": {},
   "outputs": [],
   "source": [
    "def get_response(user_input):\n",
    "    processed_tokens = preprocess_input(user_input)\n",
    "    \n",
    "    for key in responses:\n",
    "        if re.search(rf\"\\b{re.escape(key)}\\b\", ' '.join(processed_tokens), re.IGNORECASE):  # Improved regex matching\n",
    "            return responses[key]\n",
    "    \n",
    "    return responses[\"default\"]"
   ]
  },
  {
   "cell_type": "code",
   "execution_count": 10,
   "metadata": {},
   "outputs": [],
   "source": [
    "def chat():\n",
    "    print(\"Chatbot: Hello! Type 'bye' to exit.\")\n",
    "    \n",
    "    while True:\n",
    "        user_input = input(\"You: \")\n",
    "        if user_input.lower().strip() == \"bye\":\n",
    "            print(\"Chatbot: Goodbye!\")\n",
    "            break\n",
    "        response = get_response(user_input)\n",
    "        print(\"Chatbot:\", response)"
   ]
  },
  {
   "cell_type": "code",
   "execution_count": 11,
   "metadata": {},
   "outputs": [
    {
     "name": "stdout",
     "output_type": "stream",
     "text": [
      "Chatbot: Hello! Type 'bye' to exit.\n",
      "Chatbot: Hello! How can I help you today?\n",
      "Chatbot: I can answer your questions. Try asking about something more specific!\n",
      "Chatbot: I can answer your questions. Try asking about something more specific!\n",
      "Chatbot: Java is an object-oriented programming language that follows principles like encapsulation, inheritance, and polymorphism.\n",
      "Chatbot: The Java Virtual Machine (JVM) is responsible for running Java bytecode on any platform.\n",
      "Chatbot: I'm sorry, I didn't understand that. Could you rephrase?\n",
      "Chatbot: I'm sorry, I didn't understand that. Could you rephrase?\n",
      "Chatbot: The Java Development Kit (JDK) provides tools necessary for developing and running Java programs.\n",
      "Chatbot: Goodbye!\n"
     ]
    }
   ],
   "source": [
    "if __name__ == \"__main__\":\n",
    "    chat()"
   ]
  },
  {
   "cell_type": "code",
   "execution_count": null,
   "metadata": {},
   "outputs": [],
   "source": []
  }
 ],
 "metadata": {
  "kernelspec": {
   "display_name": "chatbot_env_311",
   "language": "python",
   "name": "python3"
  },
  "language_info": {
   "codemirror_mode": {
    "name": "ipython",
    "version": 3
   },
   "file_extension": ".py",
   "mimetype": "text/x-python",
   "name": "python",
   "nbconvert_exporter": "python",
   "pygments_lexer": "ipython3",
   "version": "3.11.9"
  }
 },
 "nbformat": 4,
 "nbformat_minor": 2
}
